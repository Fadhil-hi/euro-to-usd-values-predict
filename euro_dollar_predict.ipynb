{
 "cells": [
  {
   "cell_type": "code",
   "execution_count": 21,
   "metadata": {},
   "outputs": [],
   "source": [
    "import pandas as pd\n",
    "import numpy as np\n",
    "import matplotlib.pyplot as plt\n",
    "import seaborn as sns\n",
    "from sklearn.linear_model import LinearRegression\n",
    "from sklearn.model_selection import train_test_split\n",
    "from sklearn.metrics import r2_score\n",
    "from sklearn.metrics import mean_squared_error"
   ]
  },
  {
   "cell_type": "code",
   "execution_count": 2,
   "metadata": {},
   "outputs": [
    {
     "data": {
      "text/html": [
       "<div>\n",
       "<style scoped>\n",
       "    .dataframe tbody tr th:only-of-type {\n",
       "        vertical-align: middle;\n",
       "    }\n",
       "\n",
       "    .dataframe tbody tr th {\n",
       "        vertical-align: top;\n",
       "    }\n",
       "\n",
       "    .dataframe thead th {\n",
       "        text-align: right;\n",
       "    }\n",
       "</style>\n",
       "<table border=\"1\" class=\"dataframe\">\n",
       "  <thead>\n",
       "    <tr style=\"text-align: right;\">\n",
       "      <th></th>\n",
       "      <th>Date</th>\n",
       "      <th>Open</th>\n",
       "      <th>High</th>\n",
       "      <th>Low</th>\n",
       "      <th>Close</th>\n",
       "      <th>Adj Close</th>\n",
       "      <th>Volume</th>\n",
       "    </tr>\n",
       "  </thead>\n",
       "  <tbody>\n",
       "    <tr>\n",
       "      <th>0</th>\n",
       "      <td>2023-02-01</td>\n",
       "      <td>1.086095</td>\n",
       "      <td>1.092443</td>\n",
       "      <td>1.085293</td>\n",
       "      <td>1.086095</td>\n",
       "      <td>1.086095</td>\n",
       "      <td>0</td>\n",
       "    </tr>\n",
       "    <tr>\n",
       "      <th>1</th>\n",
       "      <td>2023-02-02</td>\n",
       "      <td>1.101285</td>\n",
       "      <td>1.102657</td>\n",
       "      <td>1.088767</td>\n",
       "      <td>1.101285</td>\n",
       "      <td>1.101285</td>\n",
       "      <td>0</td>\n",
       "    </tr>\n",
       "    <tr>\n",
       "      <th>2</th>\n",
       "      <td>2023-02-03</td>\n",
       "      <td>1.090513</td>\n",
       "      <td>1.094068</td>\n",
       "      <td>1.081105</td>\n",
       "      <td>1.090513</td>\n",
       "      <td>1.090513</td>\n",
       "      <td>0</td>\n",
       "    </tr>\n",
       "    <tr>\n",
       "      <th>3</th>\n",
       "      <td>2023-02-06</td>\n",
       "      <td>1.079086</td>\n",
       "      <td>1.080030</td>\n",
       "      <td>1.071834</td>\n",
       "      <td>1.079086</td>\n",
       "      <td>1.079086</td>\n",
       "      <td>0</td>\n",
       "    </tr>\n",
       "    <tr>\n",
       "      <th>4</th>\n",
       "      <td>2023-02-07</td>\n",
       "      <td>1.073076</td>\n",
       "      <td>1.074600</td>\n",
       "      <td>1.066951</td>\n",
       "      <td>1.073076</td>\n",
       "      <td>1.073076</td>\n",
       "      <td>0</td>\n",
       "    </tr>\n",
       "    <tr>\n",
       "      <th>...</th>\n",
       "      <td>...</td>\n",
       "      <td>...</td>\n",
       "      <td>...</td>\n",
       "      <td>...</td>\n",
       "      <td>...</td>\n",
       "      <td>...</td>\n",
       "      <td>...</td>\n",
       "    </tr>\n",
       "    <tr>\n",
       "      <th>257</th>\n",
       "      <td>2024-01-26</td>\n",
       "      <td>1.084705</td>\n",
       "      <td>1.088329</td>\n",
       "      <td>1.081338</td>\n",
       "      <td>1.084705</td>\n",
       "      <td>1.084705</td>\n",
       "      <td>0</td>\n",
       "    </tr>\n",
       "    <tr>\n",
       "      <th>258</th>\n",
       "      <td>2024-01-29</td>\n",
       "      <td>1.084352</td>\n",
       "      <td>1.084975</td>\n",
       "      <td>1.079715</td>\n",
       "      <td>1.084352</td>\n",
       "      <td>1.084352</td>\n",
       "      <td>0</td>\n",
       "    </tr>\n",
       "    <tr>\n",
       "      <th>259</th>\n",
       "      <td>2024-01-30</td>\n",
       "      <td>1.083447</td>\n",
       "      <td>1.085564</td>\n",
       "      <td>1.081268</td>\n",
       "      <td>1.083447</td>\n",
       "      <td>1.083447</td>\n",
       "      <td>0</td>\n",
       "    </tr>\n",
       "    <tr>\n",
       "      <th>260</th>\n",
       "      <td>2024-01-31</td>\n",
       "      <td>1.084340</td>\n",
       "      <td>1.088566</td>\n",
       "      <td>1.080766</td>\n",
       "      <td>1.084340</td>\n",
       "      <td>1.084340</td>\n",
       "      <td>0</td>\n",
       "    </tr>\n",
       "    <tr>\n",
       "      <th>261</th>\n",
       "      <td>2024-02-01</td>\n",
       "      <td>1.081666</td>\n",
       "      <td>1.082954</td>\n",
       "      <td>1.078283</td>\n",
       "      <td>1.081783</td>\n",
       "      <td>1.081783</td>\n",
       "      <td>0</td>\n",
       "    </tr>\n",
       "  </tbody>\n",
       "</table>\n",
       "<p>262 rows × 7 columns</p>\n",
       "</div>"
      ],
      "text/plain": [
       "           Date      Open      High       Low     Close  Adj Close  Volume\n",
       "0    2023-02-01  1.086095  1.092443  1.085293  1.086095   1.086095       0\n",
       "1    2023-02-02  1.101285  1.102657  1.088767  1.101285   1.101285       0\n",
       "2    2023-02-03  1.090513  1.094068  1.081105  1.090513   1.090513       0\n",
       "3    2023-02-06  1.079086  1.080030  1.071834  1.079086   1.079086       0\n",
       "4    2023-02-07  1.073076  1.074600  1.066951  1.073076   1.073076       0\n",
       "..          ...       ...       ...       ...       ...        ...     ...\n",
       "257  2024-01-26  1.084705  1.088329  1.081338  1.084705   1.084705       0\n",
       "258  2024-01-29  1.084352  1.084975  1.079715  1.084352   1.084352       0\n",
       "259  2024-01-30  1.083447  1.085564  1.081268  1.083447   1.083447       0\n",
       "260  2024-01-31  1.084340  1.088566  1.080766  1.084340   1.084340       0\n",
       "261  2024-02-01  1.081666  1.082954  1.078283  1.081783   1.081783       0\n",
       "\n",
       "[262 rows x 7 columns]"
      ]
     },
     "execution_count": 2,
     "metadata": {},
     "output_type": "execute_result"
    }
   ],
   "source": [
    "df = pd.read_csv('EURUSD=X.csv', header=0)\n",
    "df"
   ]
  },
  {
   "cell_type": "code",
   "execution_count": 3,
   "metadata": {},
   "outputs": [],
   "source": [
    "df = df.drop(columns=['Volume'])"
   ]
  },
  {
   "cell_type": "code",
   "execution_count": 4,
   "metadata": {},
   "outputs": [
    {
     "data": {
      "text/html": [
       "<div>\n",
       "<style scoped>\n",
       "    .dataframe tbody tr th:only-of-type {\n",
       "        vertical-align: middle;\n",
       "    }\n",
       "\n",
       "    .dataframe tbody tr th {\n",
       "        vertical-align: top;\n",
       "    }\n",
       "\n",
       "    .dataframe thead th {\n",
       "        text-align: right;\n",
       "    }\n",
       "</style>\n",
       "<table border=\"1\" class=\"dataframe\">\n",
       "  <thead>\n",
       "    <tr style=\"text-align: right;\">\n",
       "      <th></th>\n",
       "      <th>Date</th>\n",
       "      <th>Open</th>\n",
       "      <th>High</th>\n",
       "      <th>Low</th>\n",
       "      <th>Close</th>\n",
       "      <th>Adj Close</th>\n",
       "    </tr>\n",
       "  </thead>\n",
       "  <tbody>\n",
       "    <tr>\n",
       "      <th>0</th>\n",
       "      <td>2023-02-01</td>\n",
       "      <td>1.086095</td>\n",
       "      <td>1.092443</td>\n",
       "      <td>1.085293</td>\n",
       "      <td>1.086095</td>\n",
       "      <td>1.086095</td>\n",
       "    </tr>\n",
       "    <tr>\n",
       "      <th>1</th>\n",
       "      <td>2023-02-02</td>\n",
       "      <td>1.101285</td>\n",
       "      <td>1.102657</td>\n",
       "      <td>1.088767</td>\n",
       "      <td>1.101285</td>\n",
       "      <td>1.101285</td>\n",
       "    </tr>\n",
       "    <tr>\n",
       "      <th>2</th>\n",
       "      <td>2023-02-03</td>\n",
       "      <td>1.090513</td>\n",
       "      <td>1.094068</td>\n",
       "      <td>1.081105</td>\n",
       "      <td>1.090513</td>\n",
       "      <td>1.090513</td>\n",
       "    </tr>\n",
       "    <tr>\n",
       "      <th>3</th>\n",
       "      <td>2023-02-06</td>\n",
       "      <td>1.079086</td>\n",
       "      <td>1.080030</td>\n",
       "      <td>1.071834</td>\n",
       "      <td>1.079086</td>\n",
       "      <td>1.079086</td>\n",
       "    </tr>\n",
       "    <tr>\n",
       "      <th>4</th>\n",
       "      <td>2023-02-07</td>\n",
       "      <td>1.073076</td>\n",
       "      <td>1.074600</td>\n",
       "      <td>1.066951</td>\n",
       "      <td>1.073076</td>\n",
       "      <td>1.073076</td>\n",
       "    </tr>\n",
       "    <tr>\n",
       "      <th>...</th>\n",
       "      <td>...</td>\n",
       "      <td>...</td>\n",
       "      <td>...</td>\n",
       "      <td>...</td>\n",
       "      <td>...</td>\n",
       "      <td>...</td>\n",
       "    </tr>\n",
       "    <tr>\n",
       "      <th>257</th>\n",
       "      <td>2024-01-26</td>\n",
       "      <td>1.084705</td>\n",
       "      <td>1.088329</td>\n",
       "      <td>1.081338</td>\n",
       "      <td>1.084705</td>\n",
       "      <td>1.084705</td>\n",
       "    </tr>\n",
       "    <tr>\n",
       "      <th>258</th>\n",
       "      <td>2024-01-29</td>\n",
       "      <td>1.084352</td>\n",
       "      <td>1.084975</td>\n",
       "      <td>1.079715</td>\n",
       "      <td>1.084352</td>\n",
       "      <td>1.084352</td>\n",
       "    </tr>\n",
       "    <tr>\n",
       "      <th>259</th>\n",
       "      <td>2024-01-30</td>\n",
       "      <td>1.083447</td>\n",
       "      <td>1.085564</td>\n",
       "      <td>1.081268</td>\n",
       "      <td>1.083447</td>\n",
       "      <td>1.083447</td>\n",
       "    </tr>\n",
       "    <tr>\n",
       "      <th>260</th>\n",
       "      <td>2024-01-31</td>\n",
       "      <td>1.084340</td>\n",
       "      <td>1.088566</td>\n",
       "      <td>1.080766</td>\n",
       "      <td>1.084340</td>\n",
       "      <td>1.084340</td>\n",
       "    </tr>\n",
       "    <tr>\n",
       "      <th>261</th>\n",
       "      <td>2024-02-01</td>\n",
       "      <td>1.081666</td>\n",
       "      <td>1.082954</td>\n",
       "      <td>1.078283</td>\n",
       "      <td>1.081783</td>\n",
       "      <td>1.081783</td>\n",
       "    </tr>\n",
       "  </tbody>\n",
       "</table>\n",
       "<p>262 rows × 6 columns</p>\n",
       "</div>"
      ],
      "text/plain": [
       "           Date      Open      High       Low     Close  Adj Close\n",
       "0    2023-02-01  1.086095  1.092443  1.085293  1.086095   1.086095\n",
       "1    2023-02-02  1.101285  1.102657  1.088767  1.101285   1.101285\n",
       "2    2023-02-03  1.090513  1.094068  1.081105  1.090513   1.090513\n",
       "3    2023-02-06  1.079086  1.080030  1.071834  1.079086   1.079086\n",
       "4    2023-02-07  1.073076  1.074600  1.066951  1.073076   1.073076\n",
       "..          ...       ...       ...       ...       ...        ...\n",
       "257  2024-01-26  1.084705  1.088329  1.081338  1.084705   1.084705\n",
       "258  2024-01-29  1.084352  1.084975  1.079715  1.084352   1.084352\n",
       "259  2024-01-30  1.083447  1.085564  1.081268  1.083447   1.083447\n",
       "260  2024-01-31  1.084340  1.088566  1.080766  1.084340   1.084340\n",
       "261  2024-02-01  1.081666  1.082954  1.078283  1.081783   1.081783\n",
       "\n",
       "[262 rows x 6 columns]"
      ]
     },
     "execution_count": 4,
     "metadata": {},
     "output_type": "execute_result"
    }
   ],
   "source": [
    "df"
   ]
  },
  {
   "cell_type": "code",
   "execution_count": 5,
   "metadata": {},
   "outputs": [
    {
     "name": "stdout",
     "output_type": "stream",
     "text": [
      "<class 'pandas.core.frame.DataFrame'>\n",
      "RangeIndex: 262 entries, 0 to 261\n",
      "Data columns (total 6 columns):\n",
      " #   Column     Non-Null Count  Dtype  \n",
      "---  ------     --------------  -----  \n",
      " 0   Date       262 non-null    object \n",
      " 1   Open       262 non-null    float64\n",
      " 2   High       262 non-null    float64\n",
      " 3   Low        262 non-null    float64\n",
      " 4   Close      262 non-null    float64\n",
      " 5   Adj Close  262 non-null    float64\n",
      "dtypes: float64(5), object(1)\n",
      "memory usage: 12.4+ KB\n"
     ]
    }
   ],
   "source": [
    "df.info()"
   ]
  },
  {
   "cell_type": "code",
   "execution_count": 6,
   "metadata": {},
   "outputs": [
    {
     "data": {
      "text/plain": [
       "(262, 6)"
      ]
     },
     "execution_count": 6,
     "metadata": {},
     "output_type": "execute_result"
    }
   ],
   "source": [
    "df.shape"
   ]
  },
  {
   "cell_type": "code",
   "execution_count": 7,
   "metadata": {},
   "outputs": [
    {
     "data": {
      "text/html": [
       "<div>\n",
       "<style scoped>\n",
       "    .dataframe tbody tr th:only-of-type {\n",
       "        vertical-align: middle;\n",
       "    }\n",
       "\n",
       "    .dataframe tbody tr th {\n",
       "        vertical-align: top;\n",
       "    }\n",
       "\n",
       "    .dataframe thead th {\n",
       "        text-align: right;\n",
       "    }\n",
       "</style>\n",
       "<table border=\"1\" class=\"dataframe\">\n",
       "  <thead>\n",
       "    <tr style=\"text-align: right;\">\n",
       "      <th></th>\n",
       "      <th>Open</th>\n",
       "      <th>High</th>\n",
       "      <th>Low</th>\n",
       "      <th>Close</th>\n",
       "      <th>Adj Close</th>\n",
       "    </tr>\n",
       "  </thead>\n",
       "  <tbody>\n",
       "    <tr>\n",
       "      <th>count</th>\n",
       "      <td>262.000000</td>\n",
       "      <td>262.000000</td>\n",
       "      <td>262.000000</td>\n",
       "      <td>262.000000</td>\n",
       "      <td>262.000000</td>\n",
       "    </tr>\n",
       "    <tr>\n",
       "      <th>mean</th>\n",
       "      <td>1.082950</td>\n",
       "      <td>1.086174</td>\n",
       "      <td>1.079489</td>\n",
       "      <td>1.082951</td>\n",
       "      <td>1.082951</td>\n",
       "    </tr>\n",
       "    <tr>\n",
       "      <th>std</th>\n",
       "      <td>0.016319</td>\n",
       "      <td>0.016181</td>\n",
       "      <td>0.016195</td>\n",
       "      <td>0.016319</td>\n",
       "      <td>0.016319</td>\n",
       "    </tr>\n",
       "    <tr>\n",
       "      <th>min</th>\n",
       "      <td>1.047230</td>\n",
       "      <td>1.049428</td>\n",
       "      <td>1.044987</td>\n",
       "      <td>1.047230</td>\n",
       "      <td>1.047230</td>\n",
       "    </tr>\n",
       "    <tr>\n",
       "      <th>25%</th>\n",
       "      <td>1.070323</td>\n",
       "      <td>1.073762</td>\n",
       "      <td>1.066894</td>\n",
       "      <td>1.070323</td>\n",
       "      <td>1.070323</td>\n",
       "    </tr>\n",
       "    <tr>\n",
       "      <th>50%</th>\n",
       "      <td>1.085417</td>\n",
       "      <td>1.088969</td>\n",
       "      <td>1.081841</td>\n",
       "      <td>1.085417</td>\n",
       "      <td>1.085417</td>\n",
       "    </tr>\n",
       "    <tr>\n",
       "      <th>75%</th>\n",
       "      <td>1.094703</td>\n",
       "      <td>1.098253</td>\n",
       "      <td>1.091587</td>\n",
       "      <td>1.094703</td>\n",
       "      <td>1.094703</td>\n",
       "    </tr>\n",
       "    <tr>\n",
       "      <th>max</th>\n",
       "      <td>1.123760</td>\n",
       "      <td>1.127574</td>\n",
       "      <td>1.122007</td>\n",
       "      <td>1.123760</td>\n",
       "      <td>1.123760</td>\n",
       "    </tr>\n",
       "  </tbody>\n",
       "</table>\n",
       "</div>"
      ],
      "text/plain": [
       "             Open        High         Low       Close   Adj Close\n",
       "count  262.000000  262.000000  262.000000  262.000000  262.000000\n",
       "mean     1.082950    1.086174    1.079489    1.082951    1.082951\n",
       "std      0.016319    0.016181    0.016195    0.016319    0.016319\n",
       "min      1.047230    1.049428    1.044987    1.047230    1.047230\n",
       "25%      1.070323    1.073762    1.066894    1.070323    1.070323\n",
       "50%      1.085417    1.088969    1.081841    1.085417    1.085417\n",
       "75%      1.094703    1.098253    1.091587    1.094703    1.094703\n",
       "max      1.123760    1.127574    1.122007    1.123760    1.123760"
      ]
     },
     "execution_count": 7,
     "metadata": {},
     "output_type": "execute_result"
    }
   ],
   "source": [
    "df.describe()"
   ]
  },
  {
   "cell_type": "code",
   "execution_count": 8,
   "metadata": {},
   "outputs": [
    {
     "data": {
      "text/plain": [
       "<Axes: ylabel='Open'>"
      ]
     },
     "execution_count": 8,
     "metadata": {},
     "output_type": "execute_result"
    },
    {
     "data": {
      "image/png": "[encoded data removed]",
      "text/plain": [
       "<Figure size 600x400 with 1 Axes>"
      ]
     },
     "metadata": {},
     "output_type": "display_data"
    }
   ],
   "source": [
    "fig = plt.figure(figsize=(6,4))\n",
    "sns.boxplot(data=df, y='Open', color='blue')"
   ]
  },
  {
   "cell_type": "code",
   "execution_count": 9,
   "metadata": {},
   "outputs": [],
   "source": [
    "df_no_index = df[['Open', 'High', 'Low', 'Close', 'Adj Close']]"
   ]
  },
  {
   "cell_type": "code",
   "execution_count": 10,
   "metadata": {},
   "outputs": [
    {
     "data": {
      "text/plain": [
       "<Axes: >"
      ]
     },
     "execution_count": 10,
     "metadata": {},
     "output_type": "execute_result"
    },
    {
     "data": {
      "image/png": "[encoded data removed]",
      "text/plain": [
       "<Figure size 600x400 with 2 Axes>"
      ]
     },
     "metadata": {},
     "output_type": "display_data"
    }
   ],
   "source": [
    "fig = plt.figure(figsize=(6,4))\n",
    "sns.heatmap(df_no_index.corr(), annot=True)"
   ]
  },
  {
   "cell_type": "code",
   "execution_count": 16,
   "metadata": {},
   "outputs": [
    {
     "data": {
      "text/html": [
       "<div>\n",
       "<style scoped>\n",
       "    .dataframe tbody tr th:only-of-type {\n",
       "        vertical-align: middle;\n",
       "    }\n",
       "\n",
       "    .dataframe tbody tr th {\n",
       "        vertical-align: top;\n",
       "    }\n",
       "\n",
       "    .dataframe thead th {\n",
       "        text-align: right;\n",
       "    }\n",
       "</style>\n",
       "<table border=\"1\" class=\"dataframe\">\n",
       "  <thead>\n",
       "    <tr style=\"text-align: right;\">\n",
       "      <th></th>\n",
       "      <th>Date</th>\n",
       "      <th>Open</th>\n",
       "      <th>High</th>\n",
       "      <th>Low</th>\n",
       "      <th>Close</th>\n",
       "      <th>Adj Close</th>\n",
       "    </tr>\n",
       "  </thead>\n",
       "  <tbody>\n",
       "    <tr>\n",
       "      <th>0</th>\n",
       "      <td>2023-02-01</td>\n",
       "      <td>1.086095</td>\n",
       "      <td>1.092443</td>\n",
       "      <td>1.085293</td>\n",
       "      <td>1.086095</td>\n",
       "      <td>1.086095</td>\n",
       "    </tr>\n",
       "    <tr>\n",
       "      <th>1</th>\n",
       "      <td>2023-02-02</td>\n",
       "      <td>1.101285</td>\n",
       "      <td>1.102657</td>\n",
       "      <td>1.088767</td>\n",
       "      <td>1.101285</td>\n",
       "      <td>1.101285</td>\n",
       "    </tr>\n",
       "    <tr>\n",
       "      <th>2</th>\n",
       "      <td>2023-02-03</td>\n",
       "      <td>1.090513</td>\n",
       "      <td>1.094068</td>\n",
       "      <td>1.081105</td>\n",
       "      <td>1.090513</td>\n",
       "      <td>1.090513</td>\n",
       "    </tr>\n",
       "    <tr>\n",
       "      <th>3</th>\n",
       "      <td>2023-02-06</td>\n",
       "      <td>1.079086</td>\n",
       "      <td>1.080030</td>\n",
       "      <td>1.071834</td>\n",
       "      <td>1.079086</td>\n",
       "      <td>1.079086</td>\n",
       "    </tr>\n",
       "    <tr>\n",
       "      <th>4</th>\n",
       "      <td>2023-02-07</td>\n",
       "      <td>1.073076</td>\n",
       "      <td>1.074600</td>\n",
       "      <td>1.066951</td>\n",
       "      <td>1.073076</td>\n",
       "      <td>1.073076</td>\n",
       "    </tr>\n",
       "    <tr>\n",
       "      <th>...</th>\n",
       "      <td>...</td>\n",
       "      <td>...</td>\n",
       "      <td>...</td>\n",
       "      <td>...</td>\n",
       "      <td>...</td>\n",
       "      <td>...</td>\n",
       "    </tr>\n",
       "    <tr>\n",
       "      <th>257</th>\n",
       "      <td>2024-01-26</td>\n",
       "      <td>1.084705</td>\n",
       "      <td>1.088329</td>\n",
       "      <td>1.081338</td>\n",
       "      <td>1.084705</td>\n",
       "      <td>1.084705</td>\n",
       "    </tr>\n",
       "    <tr>\n",
       "      <th>258</th>\n",
       "      <td>2024-01-29</td>\n",
       "      <td>1.084352</td>\n",
       "      <td>1.084975</td>\n",
       "      <td>1.079715</td>\n",
       "      <td>1.084352</td>\n",
       "      <td>1.084352</td>\n",
       "    </tr>\n",
       "    <tr>\n",
       "      <th>259</th>\n",
       "      <td>2024-01-30</td>\n",
       "      <td>1.083447</td>\n",
       "      <td>1.085564</td>\n",
       "      <td>1.081268</td>\n",
       "      <td>1.083447</td>\n",
       "      <td>1.083447</td>\n",
       "    </tr>\n",
       "    <tr>\n",
       "      <th>260</th>\n",
       "      <td>2024-01-31</td>\n",
       "      <td>1.084340</td>\n",
       "      <td>1.088566</td>\n",
       "      <td>1.080766</td>\n",
       "      <td>1.084340</td>\n",
       "      <td>1.084340</td>\n",
       "    </tr>\n",
       "    <tr>\n",
       "      <th>261</th>\n",
       "      <td>2024-02-01</td>\n",
       "      <td>1.081666</td>\n",
       "      <td>1.082954</td>\n",
       "      <td>1.078283</td>\n",
       "      <td>1.081783</td>\n",
       "      <td>1.081783</td>\n",
       "    </tr>\n",
       "  </tbody>\n",
       "</table>\n",
       "<p>262 rows × 6 columns</p>\n",
       "</div>"
      ],
      "text/plain": [
       "           Date      Open      High       Low     Close  Adj Close\n",
       "0    2023-02-01  1.086095  1.092443  1.085293  1.086095   1.086095\n",
       "1    2023-02-02  1.101285  1.102657  1.088767  1.101285   1.101285\n",
       "2    2023-02-03  1.090513  1.094068  1.081105  1.090513   1.090513\n",
       "3    2023-02-06  1.079086  1.080030  1.071834  1.079086   1.079086\n",
       "4    2023-02-07  1.073076  1.074600  1.066951  1.073076   1.073076\n",
       "..          ...       ...       ...       ...       ...        ...\n",
       "257  2024-01-26  1.084705  1.088329  1.081338  1.084705   1.084705\n",
       "258  2024-01-29  1.084352  1.084975  1.079715  1.084352   1.084352\n",
       "259  2024-01-30  1.083447  1.085564  1.081268  1.083447   1.083447\n",
       "260  2024-01-31  1.084340  1.088566  1.080766  1.084340   1.084340\n",
       "261  2024-02-01  1.081666  1.082954  1.078283  1.081783   1.081783\n",
       "\n",
       "[262 rows x 6 columns]"
      ]
     },
     "execution_count": 16,
     "metadata": {},
     "output_type": "execute_result"
    }
   ],
   "source": [
    "df"
   ]
  },
  {
   "cell_type": "code",
   "execution_count": 15,
   "metadata": {},
   "outputs": [
    {
     "data": {
      "text/plain": [
       "<seaborn.axisgrid.PairGrid at 0x1c2eae090d0>"
      ]
     },
     "execution_count": 15,
     "metadata": {},
     "output_type": "execute_result"
    },
    {
     "data": {
      "image/png": "[encoded data removed]",
      "text/plain": [
       "<Figure size 1960x700 with 4 Axes>"
      ]
     },
     "metadata": {},
     "output_type": "display_data"
    }
   ],
   "source": [
    "sns.pairplot(df, x_vars=['High', 'Low', 'Close', 'Adj Close'], y_vars='Open', height=7, aspect=0.7)"
   ]
  },
  {
   "cell_type": "code",
   "execution_count": 26,
   "metadata": {},
   "outputs": [],
   "source": [
    "X = df[['High', 'Low', 'Close']]\n",
    "y = df.Open"
   ]
  },
  {
   "cell_type": "code",
   "execution_count": 19,
   "metadata": {},
   "outputs": [],
   "source": [
    "X_train, X_test, y_train, y_test = train_test_split(X, y, test_size=0.20, random_state=42)"
   ]
  },
  {
   "cell_type": "code",
   "execution_count": 20,
   "metadata": {},
   "outputs": [],
   "source": [
    "lr = LinearRegression()"
   ]
  },
  {
   "cell_type": "code",
   "execution_count": 50,
   "metadata": {},
   "outputs": [
    {
     "name": "stdout",
     "output_type": "stream",
     "text": [
      "Adjusted R Squared :  0.999999997625627\n"
     ]
    }
   ],
   "source": [
    "m1 = lr.fit(X_train, y_train)\n",
    "m1_predict = lr.predict(X_test)\n",
    "\n",
    "r_square = r2_score(m1_predict, y_test)\n",
    "adjusted_r_squared = 1 - (1-r_square)*(len(y)-1)/(len(y)-X.shape[1]-1)\n",
    "print('Adjusted R Squared : ', adjusted_r_squared)"
   ]
  },
  {
   "cell_type": "code",
   "execution_count": 35,
   "metadata": {},
   "outputs": [
    {
     "name": "stdout",
     "output_type": "stream",
     "text": [
      "Adjusted R Squared :  0.9999998021273204\n"
     ]
    }
   ],
   "source": [
    "m2 = lr.fit(X[['High', 'Low']], y)\n",
    "m2_predict = lr.predict(X[['High', 'Low']])\n",
    "\n",
    "r_square = r2_score(m1_predict, y)\n",
    "adjusted_r_squared = 1 - (1-r_square)*(len(y)-1)/(len(y)-X.shape[1]-1)\n",
    "print('Adjusted R Squared : ', adjusted_r_squared)"
   ]
  },
  {
   "cell_type": "code",
   "execution_count": 37,
   "metadata": {},
   "outputs": [
    {
     "name": "stdout",
     "output_type": "stream",
     "text": [
      "Adjusted R Squared :  0.9999998021273204\n"
     ]
    }
   ],
   "source": [
    "m3 = lr.fit(X[['Low', 'Close']], y)\n",
    "m3_predict = lr.predict(X[['Low', 'Close']])\n",
    "\n",
    "r_square = r2_score(m1_predict, y)\n",
    "adjusted_r_squared = 1 - (1-r_square)*(len(y)-1)/(len(y)-X.shape[1]-1)\n",
    "print('Adjusted R Squared : ', adjusted_r_squared)"
   ]
  },
  {
   "cell_type": "code",
   "execution_count": 38,
   "metadata": {},
   "outputs": [
    {
     "name": "stdout",
     "output_type": "stream",
     "text": [
      "Adjusted R Squared :  0.9999998021273204\n"
     ]
    }
   ],
   "source": [
    "m3 = lr.fit(X[['High', 'Low']], y)\n",
    "m3_predict = lr.predict(X[['High', 'Low']])\n",
    "\n",
    "r_square = r2_score(m1_predict, y)\n",
    "adjusted_r_squared = 1 - (1-r_square)*(len(y)-1)/(len(y)-X.shape[1]-1)\n",
    "print('Adjusted R Squared : ', adjusted_r_squared)"
   ]
  },
  {
   "cell_type": "code",
   "execution_count": 69,
   "metadata": {},
   "outputs": [],
   "source": [
    "m4 = lr.fit(X[['High']], y)"
   ]
  },
  {
   "cell_type": "code",
   "execution_count": 44,
   "metadata": {},
   "outputs": [
    {
     "name": "stdout",
     "output_type": "stream",
     "text": [
      "[1.1962533]\n"
     ]
    },
    {
     "name": "stderr",
     "output_type": "stream",
     "text": [
      "c:\\Users\\fayme amelia celesta\\AppData\\Local\\Programs\\Python\\Python311\\Lib\\site-packages\\sklearn\\base.py:464: UserWarning: X does not have valid feature names, but LinearRegression was fitted with feature names\n",
      "  warnings.warn(\n"
     ]
    }
   ],
   "source": [
    "predict_value = 1.2\n",
    "m4_result = lr.predict(np.array(predict_value).reshape(-1,1))\n",
    "print(m4)"
   ]
  },
  {
   "cell_type": "code",
   "execution_count": 70,
   "metadata": {},
   "outputs": [],
   "source": [
    "m4_results2 = lr.predict(X[['High']])"
   ]
  },
  {
   "cell_type": "code",
   "execution_count": 53,
   "metadata": {},
   "outputs": [],
   "source": [
    "m1_predict2 = lr.predict(X[['High', 'Low', 'Close']])\n",
    "\n"
   ]
  },
  {
   "cell_type": "code",
   "execution_count": 55,
   "metadata": {},
   "outputs": [
    {
     "data": {
      "text/html": [
       "<div>\n",
       "<style scoped>\n",
       "    .dataframe tbody tr th:only-of-type {\n",
       "        vertical-align: middle;\n",
       "    }\n",
       "\n",
       "    .dataframe tbody tr th {\n",
       "        vertical-align: top;\n",
       "    }\n",
       "\n",
       "    .dataframe thead th {\n",
       "        text-align: right;\n",
       "    }\n",
       "</style>\n",
       "<table border=\"1\" class=\"dataframe\">\n",
       "  <thead>\n",
       "    <tr style=\"text-align: right;\">\n",
       "      <th></th>\n",
       "      <th>Date</th>\n",
       "      <th>Open</th>\n",
       "      <th>High</th>\n",
       "      <th>Low</th>\n",
       "      <th>Close</th>\n",
       "      <th>Adj Close</th>\n",
       "      <th>predict_results</th>\n",
       "    </tr>\n",
       "  </thead>\n",
       "  <tbody>\n",
       "    <tr>\n",
       "      <th>0</th>\n",
       "      <td>2023-02-01</td>\n",
       "      <td>1.086095</td>\n",
       "      <td>1.092443</td>\n",
       "      <td>1.085293</td>\n",
       "      <td>1.086095</td>\n",
       "      <td>1.086095</td>\n",
       "      <td>1.086095</td>\n",
       "    </tr>\n",
       "    <tr>\n",
       "      <th>1</th>\n",
       "      <td>2023-02-02</td>\n",
       "      <td>1.101285</td>\n",
       "      <td>1.102657</td>\n",
       "      <td>1.088767</td>\n",
       "      <td>1.101285</td>\n",
       "      <td>1.101285</td>\n",
       "      <td>1.101285</td>\n",
       "    </tr>\n",
       "    <tr>\n",
       "      <th>2</th>\n",
       "      <td>2023-02-03</td>\n",
       "      <td>1.090513</td>\n",
       "      <td>1.094068</td>\n",
       "      <td>1.081105</td>\n",
       "      <td>1.090513</td>\n",
       "      <td>1.090513</td>\n",
       "      <td>1.090513</td>\n",
       "    </tr>\n",
       "    <tr>\n",
       "      <th>3</th>\n",
       "      <td>2023-02-06</td>\n",
       "      <td>1.079086</td>\n",
       "      <td>1.080030</td>\n",
       "      <td>1.071834</td>\n",
       "      <td>1.079086</td>\n",
       "      <td>1.079086</td>\n",
       "      <td>1.079085</td>\n",
       "    </tr>\n",
       "    <tr>\n",
       "      <th>4</th>\n",
       "      <td>2023-02-07</td>\n",
       "      <td>1.073076</td>\n",
       "      <td>1.074600</td>\n",
       "      <td>1.066951</td>\n",
       "      <td>1.073076</td>\n",
       "      <td>1.073076</td>\n",
       "      <td>1.073075</td>\n",
       "    </tr>\n",
       "    <tr>\n",
       "      <th>...</th>\n",
       "      <td>...</td>\n",
       "      <td>...</td>\n",
       "      <td>...</td>\n",
       "      <td>...</td>\n",
       "      <td>...</td>\n",
       "      <td>...</td>\n",
       "      <td>...</td>\n",
       "    </tr>\n",
       "    <tr>\n",
       "      <th>257</th>\n",
       "      <td>2024-01-26</td>\n",
       "      <td>1.084705</td>\n",
       "      <td>1.088329</td>\n",
       "      <td>1.081338</td>\n",
       "      <td>1.084705</td>\n",
       "      <td>1.084705</td>\n",
       "      <td>1.084705</td>\n",
       "    </tr>\n",
       "    <tr>\n",
       "      <th>258</th>\n",
       "      <td>2024-01-29</td>\n",
       "      <td>1.084352</td>\n",
       "      <td>1.084975</td>\n",
       "      <td>1.079715</td>\n",
       "      <td>1.084352</td>\n",
       "      <td>1.084352</td>\n",
       "      <td>1.084351</td>\n",
       "    </tr>\n",
       "    <tr>\n",
       "      <th>259</th>\n",
       "      <td>2024-01-30</td>\n",
       "      <td>1.083447</td>\n",
       "      <td>1.085564</td>\n",
       "      <td>1.081268</td>\n",
       "      <td>1.083447</td>\n",
       "      <td>1.083447</td>\n",
       "      <td>1.083446</td>\n",
       "    </tr>\n",
       "    <tr>\n",
       "      <th>260</th>\n",
       "      <td>2024-01-31</td>\n",
       "      <td>1.084340</td>\n",
       "      <td>1.088566</td>\n",
       "      <td>1.080766</td>\n",
       "      <td>1.084340</td>\n",
       "      <td>1.084340</td>\n",
       "      <td>1.084340</td>\n",
       "    </tr>\n",
       "    <tr>\n",
       "      <th>261</th>\n",
       "      <td>2024-02-01</td>\n",
       "      <td>1.081666</td>\n",
       "      <td>1.082954</td>\n",
       "      <td>1.078283</td>\n",
       "      <td>1.081783</td>\n",
       "      <td>1.081783</td>\n",
       "      <td>1.081782</td>\n",
       "    </tr>\n",
       "  </tbody>\n",
       "</table>\n",
       "<p>262 rows × 7 columns</p>\n",
       "</div>"
      ],
      "text/plain": [
       "           Date      Open      High       Low     Close  Adj Close  \\\n",
       "0    2023-02-01  1.086095  1.092443  1.085293  1.086095   1.086095   \n",
       "1    2023-02-02  1.101285  1.102657  1.088767  1.101285   1.101285   \n",
       "2    2023-02-03  1.090513  1.094068  1.081105  1.090513   1.090513   \n",
       "3    2023-02-06  1.079086  1.080030  1.071834  1.079086   1.079086   \n",
       "4    2023-02-07  1.073076  1.074600  1.066951  1.073076   1.073076   \n",
       "..          ...       ...       ...       ...       ...        ...   \n",
       "257  2024-01-26  1.084705  1.088329  1.081338  1.084705   1.084705   \n",
       "258  2024-01-29  1.084352  1.084975  1.079715  1.084352   1.084352   \n",
       "259  2024-01-30  1.083447  1.085564  1.081268  1.083447   1.083447   \n",
       "260  2024-01-31  1.084340  1.088566  1.080766  1.084340   1.084340   \n",
       "261  2024-02-01  1.081666  1.082954  1.078283  1.081783   1.081783   \n",
       "\n",
       "     predict_results  \n",
       "0           1.086095  \n",
       "1           1.101285  \n",
       "2           1.090513  \n",
       "3           1.079085  \n",
       "4           1.073075  \n",
       "..               ...  \n",
       "257         1.084705  \n",
       "258         1.084351  \n",
       "259         1.083446  \n",
       "260         1.084340  \n",
       "261         1.081782  \n",
       "\n",
       "[262 rows x 7 columns]"
      ]
     },
     "execution_count": 55,
     "metadata": {},
     "output_type": "execute_result"
    }
   ],
   "source": [
    "df_copy = df\n",
    "df_copy['predict_results'] = m1_predict2\n",
    "df_copy"
   ]
  },
  {
   "cell_type": "code",
   "execution_count": 67,
   "metadata": {},
   "outputs": [
    {
     "name": "stdout",
     "output_type": "stream",
     "text": [
      "1\n"
     ]
    }
   ],
   "source": [
    "print(len(m4))"
   ]
  },
  {
   "cell_type": "code",
   "execution_count": 73,
   "metadata": {},
   "outputs": [
    {
     "data": {
      "image/png": "[encoded data removed]",
      "text/plain": [
       "<Figure size 640x480 with 1 Axes>"
      ]
     },
     "metadata": {},
     "output_type": "display_data"
    }
   ],
   "source": [
    "plt.scatter(X[['High']], y, color = \"red\")\n",
    "plt.plot(X[['High']], m4_results2, color = \"green\")\n",
    "plt.xlabel('High')\n",
    "plt.ylabel('Open')\n",
    "plt.title('High price value of euro to USD predict')\n",
    "plt.show()"
   ]
  }
 ],
 "metadata": {
  "kernelspec": {
   "display_name": "Python 3.11.0 64-bit",
   "language": "python",
   "name": "python3"
  },
  "language_info": {
   "codemirror_mode": {
    "name": "ipython",
    "version": 3
   },
   "file_extension": ".py",
   "mimetype": "text/x-python",
   "name": "python",
   "nbconvert_exporter": "python",
   "pygments_lexer": "ipython3",
   "version": "3.11.0"
  },
  "orig_nbformat": 4,
  "vscode": {
   "interpreter": {
    "hash": "308ea38c27cab8b3f9525a60c8213e172097bb9984596a40bca47204d40a86e4"
   }
  }
 },
 "nbformat": 4,
 "nbformat_minor": 2
}
